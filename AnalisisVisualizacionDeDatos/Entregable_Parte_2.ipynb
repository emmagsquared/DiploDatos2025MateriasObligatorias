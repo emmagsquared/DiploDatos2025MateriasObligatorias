{
 "cells": [
  {
   "cell_type": "markdown",
   "metadata": {
    "id": "LYvAOR2VzHmW"
   },
   "source": [
    "\n",
    "#**Diplomatura en Ciencia de Datos, Aprendizaje Automático y sus Aplicaciones**\n",
    "\n",
    "##**Edición 2025**\n",
    "\n",
    "---\n",
    "\n",
    "\n",
    "\n",
    "\n",
    "# Trabajo práctico entregable - Parte 2"
   ]
  },
  {
   "cell_type": "code",
   "execution_count": 1,
   "metadata": {
    "id": "Xwdfo7z20TUK"
   },
   "outputs": [],
   "source": [
    "import io\n",
    "import matplotlib\n",
    "import matplotlib.pyplot as plt\n",
    "import numpy as np\n",
    "import pandas as pd\n",
    "import seaborn as sns\n",
    "import scipy.stats as stats\n",
    "from statsmodels.stats.power import tt_ind_solve_power\n",
    "\n",
    "#seaborn.set_context('talk')"
   ]
  },
  {
   "cell_type": "markdown",
   "metadata": {
    "id": "XY2Hl-Ma07Nn"
   },
   "source": [
    "## Lectura del dataset\n",
    "\n",
    "En la notebook 00 se explican los detalles de la siguiente sección."
   ]
  },
  {
   "cell_type": "code",
   "execution_count": 2,
   "metadata": {
    "id": "2fwj3rymPbpg"
   },
   "outputs": [],
   "source": [
    "url = 'https://raw.githubusercontent.com/DiploDatos/AnalisisyVisualizacion/refs/heads/master/sysarmy_survey_2025_processed.csv'\n",
    "df = pd.read_csv(url)"
   ]
  },
  {
   "cell_type": "code",
   "execution_count": 3,
   "metadata": {
    "colab": {
     "base_uri": "https://localhost:8080/",
     "height": 314
    },
    "id": "gckNHXXLktJ4",
    "outputId": "d07499b1-45a5-4f29-b7a5-d4330c075836"
   },
   "outputs": [
    {
     "data": {
      "text/html": [
       "<div>\n",
       "<style scoped>\n",
       "    .dataframe tbody tr th:only-of-type {\n",
       "        vertical-align: middle;\n",
       "    }\n",
       "\n",
       "    .dataframe tbody tr th {\n",
       "        vertical-align: top;\n",
       "    }\n",
       "\n",
       "    .dataframe thead th {\n",
       "        text-align: right;\n",
       "    }\n",
       "</style>\n",
       "<table border=\"1\" class=\"dataframe\">\n",
       "  <thead>\n",
       "    <tr style=\"text-align: right;\">\n",
       "      <th></th>\n",
       "      <th>Unnamed: 0</th>\n",
       "      <th>work_province</th>\n",
       "      <th>work_dedication</th>\n",
       "      <th>work_contract_type</th>\n",
       "      <th>salary_monthly_BRUTO</th>\n",
       "      <th>salary_monthly_NETO</th>\n",
       "      <th>salary_in_usd</th>\n",
       "      <th>salary_last_dollar_value</th>\n",
       "      <th>salary_has_bonus</th>\n",
       "      <th>salary_bonus_tied_to</th>\n",
       "      <th>...</th>\n",
       "      <th>salir_o_seguir_contestando_sobre_las_guardias</th>\n",
       "      <th>work_on_call_duty</th>\n",
       "      <th>salary_on_call_duty_charge</th>\n",
       "      <th>aclara_el_numero_que_ingresaste_en_el_campo_anterior</th>\n",
       "      <th>profile_age</th>\n",
       "      <th>profile_gender</th>\n",
       "      <th>habias_respondido_nuestra_encuesta_en_ediciones_anteriores</th>\n",
       "      <th>sueldo_dolarizado</th>\n",
       "      <th>seniority</th>\n",
       "      <th>_sal</th>\n",
       "    </tr>\n",
       "  </thead>\n",
       "  <tbody>\n",
       "    <tr>\n",
       "      <th>0</th>\n",
       "      <td>0</td>\n",
       "      <td>Ciudad Autónoma de Buenos Aires</td>\n",
       "      <td>Part-Time</td>\n",
       "      <td>Staff (planta permanente)</td>\n",
       "      <td>6500000.0</td>\n",
       "      <td>5800000.0</td>\n",
       "      <td>Cobro parte del salario en dólares</td>\n",
       "      <td>NaN</td>\n",
       "      <td>De uno a tres sueldos</td>\n",
       "      <td>Performance de la compañía</td>\n",
       "      <td>...</td>\n",
       "      <td>NaN</td>\n",
       "      <td>NaN</td>\n",
       "      <td>NaN</td>\n",
       "      <td>NaN</td>\n",
       "      <td>45</td>\n",
       "      <td>Hombre Cis</td>\n",
       "      <td>Sí</td>\n",
       "      <td>True</td>\n",
       "      <td>Senior</td>\n",
       "      <td>6500000.0</td>\n",
       "    </tr>\n",
       "    <tr>\n",
       "      <th>1</th>\n",
       "      <td>1</td>\n",
       "      <td>Ciudad Autónoma de Buenos Aires</td>\n",
       "      <td>Full-Time</td>\n",
       "      <td>Contractor</td>\n",
       "      <td>12700000.0</td>\n",
       "      <td>10200000.0</td>\n",
       "      <td>Cobro todo el salario en dólares</td>\n",
       "      <td>NaN</td>\n",
       "      <td>Un sueldo</td>\n",
       "      <td>Performance de la compañía</td>\n",
       "      <td>...</td>\n",
       "      <td>Terminar encuesta</td>\n",
       "      <td>No</td>\n",
       "      <td>0.0</td>\n",
       "      <td>Bruto</td>\n",
       "      <td>32</td>\n",
       "      <td>Mujer Cis</td>\n",
       "      <td>Sí</td>\n",
       "      <td>True</td>\n",
       "      <td>Senior</td>\n",
       "      <td>12700000.0</td>\n",
       "    </tr>\n",
       "    <tr>\n",
       "      <th>2</th>\n",
       "      <td>2</td>\n",
       "      <td>Córdoba</td>\n",
       "      <td>Full-Time</td>\n",
       "      <td>Staff (planta permanente)</td>\n",
       "      <td>3952805.0</td>\n",
       "      <td>3137662.0</td>\n",
       "      <td>Cobro parte del salario en dólares</td>\n",
       "      <td>985</td>\n",
       "      <td>No</td>\n",
       "      <td>No recibo bono</td>\n",
       "      <td>...</td>\n",
       "      <td>NaN</td>\n",
       "      <td>NaN</td>\n",
       "      <td>NaN</td>\n",
       "      <td>NaN</td>\n",
       "      <td>29</td>\n",
       "      <td>Hombre Cis</td>\n",
       "      <td>Sí</td>\n",
       "      <td>True</td>\n",
       "      <td>Semi-Senior</td>\n",
       "      <td>3952805.0</td>\n",
       "    </tr>\n",
       "  </tbody>\n",
       "</table>\n",
       "<p>3 rows × 51 columns</p>\n",
       "</div>"
      ],
      "text/plain": [
       "   Unnamed: 0                    work_province work_dedication  \\\n",
       "0           0  Ciudad Autónoma de Buenos Aires       Part-Time   \n",
       "1           1  Ciudad Autónoma de Buenos Aires       Full-Time   \n",
       "2           2                          Córdoba       Full-Time   \n",
       "\n",
       "          work_contract_type  salary_monthly_BRUTO  salary_monthly_NETO  \\\n",
       "0  Staff (planta permanente)             6500000.0            5800000.0   \n",
       "1                 Contractor            12700000.0           10200000.0   \n",
       "2  Staff (planta permanente)             3952805.0            3137662.0   \n",
       "\n",
       "                        salary_in_usd salary_last_dollar_value  \\\n",
       "0  Cobro parte del salario en dólares                      NaN   \n",
       "1    Cobro todo el salario en dólares                      NaN   \n",
       "2  Cobro parte del salario en dólares                      985   \n",
       "\n",
       "        salary_has_bonus        salary_bonus_tied_to  ...  \\\n",
       "0  De uno a tres sueldos  Performance de la compañía  ...   \n",
       "1              Un sueldo  Performance de la compañía  ...   \n",
       "2                     No              No recibo bono  ...   \n",
       "\n",
       "  salir_o_seguir_contestando_sobre_las_guardias  work_on_call_duty  \\\n",
       "0                                           NaN                NaN   \n",
       "1                             Terminar encuesta                 No   \n",
       "2                                           NaN                NaN   \n",
       "\n",
       "  salary_on_call_duty_charge  \\\n",
       "0                        NaN   \n",
       "1                        0.0   \n",
       "2                        NaN   \n",
       "\n",
       "   aclara_el_numero_que_ingresaste_en_el_campo_anterior profile_age  \\\n",
       "0                                                NaN             45   \n",
       "1                                              Bruto             32   \n",
       "2                                                NaN             29   \n",
       "\n",
       "   profile_gender habias_respondido_nuestra_encuesta_en_ediciones_anteriores  \\\n",
       "0      Hombre Cis                                                 Sí           \n",
       "1       Mujer Cis                                                 Sí           \n",
       "2      Hombre Cis                                                 Sí           \n",
       "\n",
       "  sueldo_dolarizado    seniority        _sal  \n",
       "0              True       Senior   6500000.0  \n",
       "1              True       Senior  12700000.0  \n",
       "2              True  Semi-Senior   3952805.0  \n",
       "\n",
       "[3 rows x 51 columns]"
      ]
     },
     "execution_count": 3,
     "metadata": {},
     "output_type": "execute_result"
    }
   ],
   "source": [
    "df[:3]"
   ]
  },
  {
   "cell_type": "code",
   "execution_count": 4,
   "metadata": {
    "colab": {
     "base_uri": "https://localhost:8080/"
    },
    "id": "BxFBTUsttpX4",
    "outputId": "b6554db0-f68b-4e5b-f997-914b92dd7255"
   },
   "outputs": [
    {
     "data": {
      "text/plain": [
       "array(['Hombre Cis', 'Mujer Cis', 'No binarie', 'Prefiero no decir', nan,\n",
       "       'Trans', 'Queer', 'Lesbiana', 'Agénero'], dtype=object)"
      ]
     },
     "execution_count": 4,
     "metadata": {},
     "output_type": "execute_result"
    }
   ],
   "source": [
    "df.profile_gender.unique()"
   ]
  },
  {
   "cell_type": "code",
   "execution_count": 5,
   "metadata": {
    "id": "pJjMneUJtr1H"
   },
   "outputs": [],
   "source": [
    "df.loc[:,'profile_g'] = df.profile_gender.replace({'Hombre Cis': 'Varón cis','Mujer Cis': 'Mujer cis','Queer':'Diversidades','Trans':'Diversidades','Queer':'Diversidades','Lesbiana':'Diversidades','Agénero':'Diversidades'}).fillna(False)"
   ]
  },
  {
   "cell_type": "code",
   "execution_count": 6,
   "metadata": {
    "id": "uZ1GxkLylHx0"
   },
   "outputs": [],
   "source": [
    "alpha = 0.05"
   ]
  },
  {
   "cell_type": "code",
   "execution_count": 7,
   "metadata": {
    "id": "IXt4OQherjYa"
   },
   "outputs": [],
   "source": [
    "is_man   = df.profile_g == 'Varón cis'\n",
    "is_woman = df.profile_g == 'Mujer cis'"
   ]
  },
  {
   "cell_type": "code",
   "execution_count": 8,
   "metadata": {
    "id": "OfzFpDO-lYxk"
   },
   "outputs": [],
   "source": [
    "groupA  = df[(15000000>df.salary_monthly_NETO)&(df.salary_monthly_NETO > 100000) & is_man].salary_monthly_NETO\n",
    "groupB  = df[(df.salary_monthly_NETO > 100000) & is_woman].salary_monthly_NETO"
   ]
  },
  {
   "cell_type": "code",
   "execution_count": 9,
   "metadata": {
    "colab": {
     "base_uri": "https://localhost:8080/"
    },
    "id": "1CekXbFr06N4",
    "outputId": "17d64604-c7f0-417c-85de-e2f972f36a57"
   },
   "outputs": [
    {
     "name": "stdout",
     "output_type": "stream",
     "text": [
      "Mean: 2403162.4648686917\n",
      "Median: 2000000.0\n",
      "Standard Deviation: 1606418.565282235\n"
     ]
    }
   ],
   "source": [
    "print(f\"Mean: {groupA.mean()}\")\n",
    "print(f\"Median: {groupA.median()}\")\n",
    "print(f\"Standard Deviation: {groupA.std()}\")"
   ]
  },
  {
   "cell_type": "code",
   "execution_count": 10,
   "metadata": {
    "colab": {
     "base_uri": "https://localhost:8080/"
    },
    "id": "YrmBv8WX1h5Q",
    "outputId": "cbb4a18f-7cd9-45de-af71-263a159385da"
   },
   "outputs": [
    {
     "name": "stdout",
     "output_type": "stream",
     "text": [
      "Mean: 1926464.3164589824\n",
      "Median: 1660669.0\n",
      "Standard Deviation: 1246694.955339217\n"
     ]
    }
   ],
   "source": [
    "print(f\"Mean: {groupB.mean()}\")\n",
    "print(f\"Median: {groupB.median()}\")\n",
    "print(f\"Standard Deviation: {groupB.std()}\")"
   ]
  },
  {
   "cell_type": "code",
   "execution_count": 11,
   "metadata": {
    "colab": {
     "base_uri": "https://localhost:8080/",
     "height": 504
    },
    "id": "L2sUC9RSzaF9",
    "outputId": "e181e0df-43b7-40d8-98f9-6c328f3befba"
   },
   "outputs": [
    {
     "data": {
      "text/plain": [
       "Text(0.5, 0, 'Salary')"
      ]
     },
     "execution_count": 11,
     "metadata": {},
     "output_type": "execute_result"
    },
    {
     "data": {
      "image/png": "[encoded data removed]",
      "text/plain": [
       "<Figure size 1500x500 with 2 Axes>"
      ]
     },
     "metadata": {},
     "output_type": "display_data"
    }
   ],
   "source": [
    "# Create the histograms\n",
    "fig, axes = plt.subplots(1, 2, figsize=(15, 5), sharey=True)  # 1 row, 3 columns\n",
    "\n",
    "# Plot each group on a separate subplot\n",
    "axes[0].hist(groupA, bins=50, color='skyblue', edgecolor='black')\n",
    "axes[0].set_title('groupA')\n",
    "axes[0].set_xlabel('Salary')\n",
    "axes[0].set_ylabel('Frequency')\n",
    "\n",
    "axes[1].hist(groupB, bins=20, color='salmon', edgecolor='black')\n",
    "axes[1].set_title('groupB')\n",
    "axes[1].set_xlabel('Salary')"
   ]
  },
  {
   "cell_type": "markdown",
   "metadata": {
    "id": "co_0M_ojtmUh"
   },
   "source": [
    "## Ejercicio 1: Estimación\n",
    "\n",
    "**Consigna:**  Calcular una estimación puntual y un intervalo de confianza de nivel (1-alpha) para la resta entre la media del salario Neto para Hombres y la media del salario Neto para mujeres (diferencia de las medias entre el grupoA y grupoB).\n",
    "¿Cómo se relaciona este intervalo de confianza con el test de hipótesis para diferencia de medias?"
   ]
  },
  {
   "cell_type": "markdown",
   "metadata": {},
   "source": [
    "En primer lugar calculamos la estimación puntual como la resta entre las medias del Salario Neto para hombres (groupA) \n",
    "y para mujeres (groupB) :"
   ]
  },
  {
   "cell_type": "code",
   "execution_count": 12,
   "metadata": {},
   "outputs": [
    {
     "name": "stdout",
     "output_type": "stream",
     "text": [
      "Diferencia de medias: 476698.14840970933\n"
     ]
    }
   ],
   "source": [
    "## estimación puntual\n",
    "diff = groupA.mean() - groupB.mean()\n",
    "print(f\"Diferencia de medias: {diff}\")"
   ]
  },
  {
   "cell_type": "markdown",
   "metadata": {},
   "source": [
    "Luego el intervalo de confianza de nivel (1-$\\alpha$) con $\\alpha$ = 0.05 con el t de Welch, donde el tamaño y las varianzas\n",
    "entre las muestras son distintas. Esto se puede ver por ejemplo, cuando calculamos las desviaciones standard (1606418.5652822386 para el grupo A y  1246694.9553392164 para el grupo B) y la cantidad de mujeres y hombres (963 Y 3884, respectivamente)"
   ]
  },
  {
   "cell_type": "code",
   "execution_count": 13,
   "metadata": {},
   "outputs": [
    {
     "name": "stdout",
     "output_type": "stream",
     "text": [
      "Cantidad de hombres= 3884\n",
      "Cantidad de mujeres= 963\n"
     ]
    }
   ],
   "source": [
    "# Tamaños muestrales\n",
    "n1, n2 = len(groupA), len(groupB)\n",
    "print(\"Cantidad de hombres=\", n1)\n",
    "print(\"Cantidad de mujeres=\", n2)"
   ]
  },
  {
   "cell_type": "code",
   "execution_count": 14,
   "metadata": {},
   "outputs": [
    {
     "name": "stdout",
     "output_type": "stream",
     "text": [
      "Desvíación estándar para los salarios netos de hombres = 1606418.565282235\n",
      "Desvíación estándar para los salarios netos de mujeres = 1246694.955339217\n"
     ]
    }
   ],
   "source": [
    "# Desvíación estándar\n",
    "s1, s2 = groupA.std(), groupB.std()\n",
    "print(\"Desvíación estándar para los salarios netos de hombres =\",s1)\n",
    "print(\"Desvíación estándar para los salarios netos de mujeres =\",s2)"
   ]
  },
  {
   "cell_type": "code",
   "execution_count": 15,
   "metadata": {},
   "outputs": [
    {
     "name": "stdout",
     "output_type": "stream",
     "text": [
      "Grados de libertad (aprox.): 1839.826694806468\n",
      "Valor crítico t: 1.961254218073162\n",
      "Intervalo de confianza del 95.0%: (383082.8568695127, 570313.439949906)\n"
     ]
    }
   ],
   "source": [
    "### Intervalo de confianza de nivel (1-alpha) para la resta\n",
    "### entre la media del salario Neto para Hombres y la media del salario Neto para mujeres\n",
    "\n",
    "###################### Error estándar de cada grupo (s_Xi)\n",
    "s_X1 = s1 / np.sqrt(n1)\n",
    "s_X2 = s2 / np.sqrt(n2)\n",
    "\n",
    "######################Error estándar combinado\n",
    "s_diff = np.sqrt(s_X1**2 + s_X2**2)\n",
    "\n",
    "###################### Grados de libertad (Welch-Satterthwaite)\n",
    "# Numerador\n",
    "df_num = ( (s1**2 / n1) + (s2**2 / n2) )**2\n",
    "\n",
    "# Denominador \n",
    "term1 = (s1**4) / (n1**2 * (n1 - 1))\n",
    "term2 = (s2**4) / (n2**2 * (n2 - 1))\n",
    "df_den = term1 + term2\n",
    "\n",
    "# Grados de libertad aproximados\n",
    "df = df_num / df_den\n",
    "\n",
    "###################### Valor crítico de t para el nivel de confianza deseado\n",
    "t_critical = stats.t.ppf(1 - alpha/2, df)\n",
    "\n",
    "###################### Construcción del intervalo de confianza\n",
    "ci_lower = diff - (t_critical * s_diff)\n",
    "ci_upper = diff + (t_critical * s_diff)\n",
    "\n",
    "print(f\"Grados de libertad (aprox.): {df}\")\n",
    "print(f\"Valor crítico t: {t_critical}\")\n",
    "print(f\"Intervalo de confianza del {100*(1-alpha)}%: ({ci_lower}, {ci_upper})\")"
   ]
  },
  {
   "cell_type": "markdown",
   "metadata": {},
   "source": [
    "El intervalo de confianza (IC) y el test de hipótesis para la diferencia de medias son dos herramientas estadísticas que, aunque se aplican de manera distinta, buscan responder la misma pregunta: si existe una diferencia estadísticamente significativa entre los promedios de dos poblaciones.\n",
    "\n",
    "En el test de hipótesis, se formula como hipótesis nula (H$_0$) que no hay diferencia entre las medias poblacionales, es decir, que los salarios promedio de varones cis y mujeres cis son iguales (H$_0$: $\\mu_1$ − $\\mu_2$ = 0). La hipótesis alternativa H$_1$ plantea que las medias son distintas (H$_1$: $\\mu_1$ − $\\mu_2$ ≠ 0). A partir de los datos recolectados, se calcula un estadístico de prueba y su valor-p, que permite evaluar si la evidencia empírica es suficiente para rechazar la hipótesis nula con un nivel de significancia previamente definido ($\\alpha$).\n",
    "\n",
    "El intervalo de confianza, por su parte, proporciona un rango de valores plausibles para la verdadera diferencia de medias. Su interpretación es que, con un cierto nivel de confianza (por ejemplo, 95%), el intervalo obtenido contendrá la verdadera diferencia poblacional en un alto porcentaje de muestras tomadas de la misma población.\n",
    "\n",
    "Ambos enfoques están relacionados:\n",
    "* Si el valor 0 no está incluido en el intervalo de confianza, se rechaza la hipótesis nula y se concluye que existe evidencia estadística de una diferencia significativa entre los salarios promedio de ambos grupos.\n",
    "\n",
    "* Si el valor 0 está incluido en el intervalo, no se rechaza H$_0$, lo que indica que no hay evidencia suficiente para afirmar una diferencia entre las medias.\n",
    "\n",
    "El test de hipótesis lo hace mediante el valor-p y el intervalo de confianza a través de la inclusión o exclusión del valor nulo. Aunque sus enfoques son diferentes, se complementan para evaluar la significancia de la diferencia de medias de manera consistente."
   ]
  },
  {
   "cell_type": "markdown",
   "metadata": {},
   "source": []
  },
  {
   "cell_type": "markdown",
   "metadata": {
    "id": "IFi2T7Y6nM92"
   },
   "source": [
    "## Ejercicio 2: Test de hipótesis\n"
   ]
  },
  {
   "cell_type": "markdown",
   "metadata": {
    "id": "Rzxe8UYU6EfJ"
   },
   "source": [
    "### 2.1 Formalización\n",
    "\n",
    "Describir formalmente los distintos componentes de un test de hipótesis para comprobar si la distribución de los salarios es distinta entre los grupos A y B.\n",
    "\n",
    "**Hipótesis Nula**\n",
    "\n",
    "$H_0: \\mu_A - \\mu_B = 0$\n",
    "\n",
    "**Estadístico (Pivote)**\n",
    "  * Identificar el estadístico\n",
    "  * Escribir qué distribución tiene bajo $H_0$\n"
   ]
  },
  {
   "cell_type": "markdown",
   "metadata": {},
   "source": [
    "## 2.1\n",
    "\n",
    "Para contrastar si la distribución de los salarios es distinta entre los grupos A (hombres programadores) y B (mujeres programadoras), formulamos el test de hipótesis correspondiente a la comparación de medias de dos poblaciones independientes.\n",
    "\n",
    "**Hipótesis Nula**\n",
    "\n",
    "$$ H_0 : \\mu_A = \\mu_B \\quad (\\mu_A - \\mu_B = 0)$$\n",
    "\n",
    "Esto implica que, bajo la hipótesis nula, no existe diferencia en los salarios medios entre los grupos A y B.\n",
    "\n",
    "**Hipótesis Alternativa**\n",
    "\n",
    "$$ H_1 : \\mu_A \\neq \\mu_B \\quad (\\mu_A - \\mu_B \\neq 0) $$\n",
    "\n",
    "Esto plantea que los salarios medios entre ambos grupos son significativamente diferentes.\n",
    "\n",
    "---\n",
    "\n",
    "**Estadístico (Pivote)**\n",
    "\n",
    "El estadístico de prueba es el **estadístico t para dos muestras independientes con varianzas distintas** (test de Welch), dado por:\n",
    "\n",
    "$$ T = \\frac{ \\bar{X}_A - \\bar{X}_B }{ \\sqrt{ \\frac{s_A^2}{n_A} + \\frac{s_B^2}{n_B} } } $$\n",
    "\n",
    "donde:  \n",
    "– $ \\bar{X}_A ,  \\bar{X}_B $ son las medias muestrales de los salarios en cada grupo,  \n",
    "– $ s_A^2 ,  s_B^2 $ son las varianzas muestrales,  \n",
    "– $ n_A ,  n_B $ son los tamaños muestrales de cada grupo.\n",
    "\n",
    "---\n",
    "\n",
    "**Distribución bajo ( H$_0$ )**\n",
    "\n",
    "Bajo la hipótesis nula ( H$_0$ = no existe diferencia real entre las medias poblacionales) y asumiendo que las varianzas poblacionales son **distintas**, el estadístico ( T ) se distribuye aproximadamente como una **t de Student** con grados de libertad estimados mediante la fórmula de **Welch-Satterthwaite**:\n",
    "\n",
    "$$ df = \\frac{ \\left( \\frac{s_A^2}{n_A} + \\frac{s_B^2}{n_B} \\right)^2 }{ \\frac{ (s_A^2 / n_A)^2 }{n_A - 1} + \\frac{ (s_B^2 / n_B)^2 }{n_B - 1} } $$\n",
    "\n",
    "Por lo tanto, bajo ( $H_0$ ):\n",
    "\n",
    "$$ T \\sim t_{df} $$\n",
    "\n",
    "donde **t** es la distribución t de Student con **df** grados de libertad.\n"
   ]
  },
  {
   "cell_type": "markdown",
   "metadata": {
    "id": "3Ip_5YdenC8u"
   },
   "source": [
    "### 2.2 P-valor\n",
    "\n",
    "1. Calcule el p-valor y decida si rechazar o no la hipótesis nula.\n",
    "2. Interprete el resultado.\n",
    "\n",
    "Links útiles:\n",
    "* [Test de hipótesis usando scipy](https://docs.scipy.org/doc/scipy/reference/generated/scipy.stats.ttest_ind.html)\n",
    "* [Test de Welch](http://daniellakens.blogspot.com/2015/01/always-use-welchs-t-test-instead-of.html)"
   ]
  },
  {
   "cell_type": "markdown",
   "metadata": {},
   "source": [
    "1. Cálculo del p-valor y decisión sobre H$_0$\n",
    "\n",
    "Dado que asumimos varianzas distintas entre los dos grupos (hombres programadores y mujeres programadoras), corresponde utilizar el test t de Welch, que ajusta automáticamente los grados de libertad.\n",
    "\n",
    "En Python, con scipy, se puede calcular el estadístico t y el p-valor usando:"
   ]
  },
  {
   "cell_type": "code",
   "execution_count": 16,
   "metadata": {},
   "outputs": [
    {
     "name": "stdout",
     "output_type": "stream",
     "text": [
      "Estadístico t: 9.9869\n",
      "p valor: 0.0000000000\n"
     ]
    }
   ],
   "source": [
    "t_stat, p_value = stats.ttest_ind(groupA, groupB, equal_var=False)\n",
    "\n",
    "print(f\"Estadístico t: {t_stat:.4f}\")\n",
    "print(f\"p valor: {p_value:.10f}\")"
   ]
  },
  {
   "cell_type": "markdown",
   "metadata": {},
   "source": [
    "2. En este caso, se rechaza la hipótesis nula, dado que el p valor (p = $0.00$) obtenido es menor que el nivel de significancia establecido ($\\alpha = 0.05$)."
   ]
  },
  {
   "cell_type": "markdown",
   "metadata": {
    "id": "8VxiQr5YrQYR"
   },
   "source": [
    "### [Opcional] 2.3 Potencia del test\n",
    "\n",
    "Nuestra muestra, ¿era lo suficientemente grande para detectar si existe o no una diferencia entre los grupos?\n",
    "\n",
    "1. Utilice la función `tt_ind_solve_power` para calcular el tamaño necesario de la muestra para un poder estadístico de 0.8, 0.9 y 0.95, asumiendo una significancia estadística de 0.05.\n",
    "2. ¿Cómo intepretan el poder estadístico de un test? Dado su conocimiento de dominio sobre los datos, ¿les parece que esta muestra es lo suficientemente grande para ser representativo de la tendencia general? ¿y para utilizarlo en un juicio penal contra una empresa XX por una causa de discriminación?\n",
    "\n",
    "[Documentación](https://www.statsmodels.org/stable/generated/statsmodels.stats.power.tt_ind_solve_power.html)\n",
    "\n",
    "NOTA: este análisis debería hacerse ANTES de recolectar los datos."
   ]
  },
  {
   "cell_type": "markdown",
   "metadata": {},
   "source": [
    "1.Primero calculamos el tamaño necesario de la muestra para un poder estadístico de 0.8, 0.9 y 0.95, asumiendo una significancia estadística de 0.05."
   ]
  },
  {
   "cell_type": "code",
   "execution_count": 17,
   "metadata": {},
   "outputs": [],
   "source": [
    "effect_size = (groupA.mean() - groupB.mean()) / groupB.std()\n",
    "# nobs1=None  - What we want to know\n",
    "alpha = 0.05\n",
    "ratio = len(groupB) / len(groupA)\n",
    "power= 0.8"
   ]
  },
  {
   "cell_type": "code",
   "execution_count": 18,
   "metadata": {},
   "outputs": [
    {
     "name": "stdout",
     "output_type": "stream",
     "text": [
      "Tamaño necesario de muestra para power=0.8: 271.75\n",
      "Tamaño necesario de muestra para power=0.9: 363.27\n",
      "Tamaño necesario de muestra para power=0.95: 448.89\n"
     ]
    }
   ],
   "source": [
    "# Para power = 0.8\n",
    "n_0_8 = tt_ind_solve_power(effect_size=effect_size, alpha=alpha, power=0.8, ratio=ratio)\n",
    "\n",
    "# Para power = 0.9\n",
    "n_0_9 = tt_ind_solve_power(effect_size=effect_size, alpha=alpha, power=0.9, ratio=ratio)\n",
    "\n",
    "# Para power = 0.95\n",
    "n_0_95 = tt_ind_solve_power(effect_size=effect_size, alpha=alpha, power=0.95, ratio=ratio)\n",
    "\n",
    "print(f\"Tamaño necesario de muestra para power=0.8: {n_0_8:.2f}\")\n",
    "print(f\"Tamaño necesario de muestra para power=0.9: {n_0_9:.2f}\")\n",
    "print(f\"Tamaño necesario de muestra para power=0.95: {n_0_95:.2f}\")"
   ]
  },
  {
   "cell_type": "markdown",
   "metadata": {
    "id": "LUQ7MA2Apj9x"
   },
   "source": [
    "2. El poder estadístico de un test mide la probabilidad de detectar una diferencia real entre los grupos si existe, evitando un error tipo II (no rechazar la hipótesis nula cuando esta es falsa). Un poder de 0.8 es generalmente suficiente, indicando un 80% de probabilidad de detectar una diferencia significativa si existe, pero valores de 0.9 o 0.95 proporcionan mayor confianza, aunque requieren muestras más grandes.\n",
    "\n",
    "En este caso, el tamaño necesario de la muestra para un poder de 0.8 es de 271.75, para 0.9 es de 363.27 y para 0.95 es de 448.89. Sin embargo, la muestra con la que contamos tiene 963 mujeres, por lo que el tamaño de la muestra es más que suficiente para obtener un poder estadístico adecuado en cualquiera de los escenarios, garantizando la fiabilidad de los resultados.\n",
    "\n",
    "Por lo tanto, no hay problemas con el tamaño de la muestra. En el contexto de un juicio penal por discriminación, como el de una empresa XX, un poder estadístico adecuado y un tamaño de muestra grande son fundamentales para garantizar que los resultados sean confiables y representativos, y en este caso, esos requisitos están cumplidos."
   ]
  },
  {
   "cell_type": "markdown",
   "metadata": {
    "id": "useKMdPyMod5"
   },
   "source": [
    "## Ejercicio 3: Comunicación y visualización\n",
    "\n",
    "**Consigna:** Seleccionen un resultado que les parezca relevante a partir de alguno de los ejercicios del entregable. Diseñe e implemente una comunicación en base a este mensaje, en un archivo PDF.\n",
    "\n",
    "Elija las palabras y visualización más adecuada para que la comunicación sea entendible, efectiva y se dapte a UNA de las siguientes situaciones:\n",
    "\n",
    "1. Una sección en un artículo de difusión a presentar como parte de una organización sin fines de lucro.\n",
    "No más de 1 página A4 (o dos si los gráficos son muy grandes).\n",
    "  1. Ejemplo: Alguna de las secciones [Los ecosistemas de emprendimiento de América Latina y el Caribe frente al COVID-19: Impactos, necesidades y recomendaciones](https://publications.iadb.org/es/los-ecosistemas-de-emprendimiento-de-america-latina-y-el-caribe-frente-al-covid-19-impactos-necesidades-y-recomendaciones), por ejemplo la sección *2.2. Reacciones de los emprendedores*.\n",
    "  2. Ejemplo: Alguna de las secciones de [The state of gender pay gap in 2021](https://www.payscale.com/data/gender-pay-gap?tk=carousel-ps-rc-job)\n",
    "  3. Puntos clave:\n",
    "    1. Simpleza de los gráficos.\n",
    "    2. Comunicación en lenguaje simple a personas que no son necesariamente expertos de dominio.\n",
    "    2. Selección de UNA oración sobre la que se hace énfasis.\n",
    "    3. No es necesario que mencionen objetivos ni descripciones del conjunto de datos, se supone que eso ya estaría explicado en otras secciones del informe.\n",
    "\n",
    "2. Una publicación científica o reporte técnico interno. No más de una página A4:\n",
    "  2. Ejemplo: La sección de resultados de [IZA DP No. 12914: The Impact of a Minimum Wage Change on the Distribution of Wages and Household Income](https://www.iza.org/publications/dp/12914/the-impact-of-a-minimum-wage-change-on-the-distribution-of-wages-and-household-income).\n",
    "  2. Ejemplo: Alguna de las secciones de [Temporary reduction in daily global CO2 emissions during the COVID-19 forced confinement](https://www.nature.com/articles/s41558-020-0797-x)\n",
    "  3. Puntos clave:\n",
    "    3. Nivel de detalle técnico requerido. Es necesario justificar la validez del análisis.\n",
    "    4. La idea presentada puede ser más compleja. Pueden asumir que la audiencia tiene conocimiento técnico y va a analizar las visualizaciones en detalle.\n",
    "    5. Pueden presentar más en detalle las limitaciones del análisis (significancia estadística, etc.)\n",
    "    2. No es necesario que mencionen objetivos ni descripciones del conjunto de datos, se supone que eso ya estaría explicado en otras secciones del informe.\n",
    "\n",
    "3. Un tweet (o post de LinkedIn) para la cuenta de su empresa consultora que hace análisis de datos. El objetivo es promocionar un análisis de datos abiertos que van a incluir en su portfolio:\n",
    "  1. Ejemplo: [Comparación vacunas covid](https://twitter.com/infobeautiful/status/1381577746527236098?s=20)\n",
    "  2. Ejemplo: [Tweet del BID](https://twitter.com/el_BID/status/1388508583944507396?s=20). Lo valioso de este tweet es que usaron un único número para transmitir un mensaje. Puede ser algo así, o con un gráfico muy simple.\n",
    "  3. Ejemplo: [Cambio climático](https://twitter.com/UNFCCC/status/1387732156190011394?s=20) Es un muy buen ejemplo, excepto que el gráfico no se lee nada y hay que entrar a la publicación original.\n",
    "  3. Ejemplo: [¿Cuánto están los programadores en las empresas?](https://www.linkedin.com/posts/denis-rothman-0b034043_tech-career-work-activity-6793861923269054464-gS6y) (No verificamos la veracidad o seriedad de la fuente).\n",
    "  4. Puntos clave:\n",
    "    1. Su audiencia no va a mirar la visualización por más de unos segundos, y no tiene conocimiento técnico.\n",
    "  3. Tienen que incluir además una *breve* descripción de cómo obtuvieron los datos que están presentando, que no entraría en el tweet.\n"
   ]
  },
  {
   "cell_type": "markdown",
   "metadata": {
    "id": "twwYHUztt45L"
   },
   "source": [
    "podríamos hacer:\n",
    "\n",
    "1) grafico de barra--> cantidad de gente por lenguaje\n",
    "\n",
    "2) gráfico de barra parecido a \n",
    "https://www.linkedin.com/posts/denis-rothman-0b034043_tech-career-work-activity-6793861923269054464-gS6y"
   ]
  }
 ],
 "metadata": {
  "colab": {
   "provenance": []
  },
  "kernelspec": {
   "display_name": "base",
   "language": "python",
   "name": "python3"
  },
  "language_info": {
   "codemirror_mode": {
    "name": "ipython",
    "version": 3
   },
   "file_extension": ".py",
   "mimetype": "text/x-python",
   "name": "python",
   "nbconvert_exporter": "python",
   "pygments_lexer": "ipython3",
   "version": "3.11.7"
  }
 },
 "nbformat": 4,
 "nbformat_minor": 4
}
